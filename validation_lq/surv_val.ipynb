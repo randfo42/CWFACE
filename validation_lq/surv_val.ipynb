{
 "cells": [
  {
   "cell_type": "code",
   "execution_count": 1,
   "id": "5316b85e",
   "metadata": {},
   "outputs": [
    {
     "name": "stderr",
     "output_type": "stream",
     "text": [
      "/home/taes/anaconda3/envs/adaface/lib/python3.7/site-packages/tqdm/auto.py:22: TqdmWarning: IProgress not found. Please update jupyter and ipywidgets. See https://ipywidgets.readthedocs.io/en/stable/user_install.html\n",
      "  from .autonotebook import tqdm as notebook_tqdm\n"
     ]
    }
   ],
   "source": [
    "import torch\n",
    "import numpy as np\n",
    "from tqdm import tqdm\n",
    "import data_utils\n",
    "import argparse\n",
    "import pandas as pd\n",
    "import survface_helper\n",
    "import sys, os\n",
    "sys.path.insert(0, os.path.dirname(os.getcwd()))\n",
    "\n",
    "import net"
   ]
  },
  {
   "cell_type": "code",
   "execution_count": 2,
   "id": "6136f20b",
   "metadata": {},
   "outputs": [],
   "source": [
    "os.environ[\"CUDA_DEVICE_ORDER\"]=\"PCI_BUS_ID\"   \n",
    "os.environ['CUDA_VISIBLE_DEVICES'] = '1'\n"
   ]
  },
  {
   "cell_type": "code",
   "execution_count": 3,
   "id": "64c97340",
   "metadata": {},
   "outputs": [],
   "source": [
    "def str2bool(v):\n",
    "    if v.lower() in ('yes', 'true', 't', 'y', '1'):\n",
    "        return True\n",
    "    elif v.lower() in ('no', 'false', 'f', 'n', '0'):\n",
    "        return False\n",
    "    else:\n",
    "        raise argparse.ArgumentTypeError('Boolean value expected.')"
   ]
  },
  {
   "cell_type": "code",
   "execution_count": 4,
   "id": "4e86bb09",
   "metadata": {},
   "outputs": [],
   "source": [
    "def l2_norm(input, axis=1):\n",
    "    \"\"\"l2 normalize\n",
    "    \"\"\"\n",
    "    norm = torch.norm(input, 2, axis, True)\n",
    "    output = torch.div(input, norm)\n",
    "    return output, norm\n"
   ]
  },
  {
   "cell_type": "code",
   "execution_count": 5,
   "id": "4fe5d81d",
   "metadata": {},
   "outputs": [],
   "source": [
    "def fuse_features_with_norm(stacked_embeddings, stacked_norms, fusion_method='norm_weighted_avg'):\n",
    "\n",
    "    assert stacked_embeddings.ndim == 3 # (n_features_to_fuse, batch_size, channel)\n",
    "    if stacked_norms is not None:\n",
    "        assert stacked_norms.ndim == 3 # (n_features_to_fuse, batch_size, 1)\n",
    "    else:\n",
    "        assert fusion_method not in ['norm_weighted_avg', 'pre_norm_vector_add']\n",
    "\n",
    "    if fusion_method == 'norm_weighted_avg':\n",
    "        weights = stacked_norms / stacked_norms.sum(dim=0, keepdim=True)\n",
    "        fused = (stacked_embeddings * weights).sum(dim=0)\n",
    "        fused, _ = l2_norm(fused, axis=1)\n",
    "        fused_norm = stacked_norms.mean(dim=0)\n",
    "    elif fusion_method == 'pre_norm_vector_add':\n",
    "        pre_norm_embeddings = stacked_embeddings * stacked_norms\n",
    "        fused = pre_norm_embeddings.sum(dim=0)\n",
    "        fused, fused_norm = l2_norm(fused, axis=1)\n",
    "    elif fusion_method == 'average':\n",
    "        fused = stacked_embeddings.sum(dim=0)\n",
    "        fused, _ = l2_norm(fused, axis=1)\n",
    "        if stacked_norms is None:\n",
    "            fused_norm = torch.ones((len(fused), 1))\n",
    "        else:\n",
    "            fused_norm = stacked_norms.mean(dim=0)\n",
    "    elif fusion_method == 'concat':\n",
    "        fused = torch.cat([stacked_embeddings[0], stacked_embeddings[1]], dim=-1)\n",
    "        if stacked_norms is None:\n",
    "            fused_norm = torch.ones((len(fused), 1))\n",
    "        else:\n",
    "            fused_norm = stacked_norms.mean(dim=0)\n",
    "    elif fusion_method == 'faceness_score':\n",
    "        raise ValueError('not implemented yet. please refer to https://github.com/deepinsight/insightface/blob/5d3be6da49275602101ad122601b761e36a66a01/recognition/_evaluation_/ijb/ijb_11.py#L296')\n",
    "        # note that they do not use normalization afterward.\n",
    "    else:\n",
    "        raise ValueError('not a correct fusion method', fusion_method)\n",
    "\n",
    "    return fused, fused_norm\n"
   ]
  },
  {
   "cell_type": "code",
   "execution_count": 6,
   "id": "82955c1d",
   "metadata": {},
   "outputs": [],
   "source": [
    "def infer(model, dataloader, use_flip_test, fusion_method):\n",
    "    model.eval()\n",
    "    features = []\n",
    "    norms = []\n",
    "    with torch.no_grad():\n",
    "        for images, idx in tqdm(dataloader):\n",
    "\n",
    "            feature = model(images.to(\"cuda:0\"))\n",
    "            if isinstance(feature, tuple):\n",
    "                feature, norm = feature\n",
    "            else:\n",
    "                norm = None\n",
    "\n",
    "            if use_flip_test:\n",
    "                fliped_images = torch.flip(images, dims=[3])\n",
    "                flipped_feature = model(fliped_images.to(\"cuda:0\"))\n",
    "                if isinstance(flipped_feature, tuple):\n",
    "                    flipped_feature, flipped_norm = flipped_feature\n",
    "                else:\n",
    "                    flipped_norm = None\n",
    "\n",
    "                stacked_embeddings = torch.stack([feature, flipped_feature], dim=0)\n",
    "                if norm is not None:\n",
    "                    stacked_norms = torch.stack([norm, flipped_norm], dim=0)\n",
    "                else:\n",
    "                    stacked_norms = None\n",
    "\n",
    "                fused_feature, fused_norm = fuse_features_with_norm(stacked_embeddings, stacked_norms, fusion_method=fusion_method)\n",
    "                features.append(fused_feature.cpu().numpy())\n",
    "                norms.append(fused_norm.cpu().numpy())\n",
    "            else:\n",
    "                features.append(feature.cpu().numpy())\n",
    "                norms.append(norm.cpu().numpy())\n",
    "\n",
    "    features = np.concatenate(features, axis=0)\n",
    "    norms = np.concatenate(norms, axis=0)\n",
    "    return features, norms\n"
   ]
  },
  {
   "cell_type": "code",
   "execution_count": 7,
   "id": "47618ee7",
   "metadata": {},
   "outputs": [],
   "source": [
    "def load_pretrained_model(model_name='ir50'):\n",
    "    # load model and pretrained statedict\n",
    "    ckpt_path = adaface_models[model_name][0]\n",
    "    arch = adaface_models[model_name][1]\n",
    "\n",
    "    model = net.build_model(arch)\n",
    "    statedict = torch.load(ckpt_path)['state_dict']\n",
    "    model_statedict = {key[6:]:val for key, val in statedict.items() if key.startswith('model.')}\n",
    "    model.load_state_dict(model_statedict)\n",
    "    model.eval()\n",
    "    return model\n"
   ]
  },
  {
   "cell_type": "code",
   "execution_count": 8,
   "id": "809f90fc",
   "metadata": {},
   "outputs": [],
   "source": [
    "model_name = 'ir50'"
   ]
  },
  {
   "cell_type": "code",
   "execution_count": 9,
   "id": "df76ec7d",
   "metadata": {},
   "outputs": [],
   "source": [
    "adaface_models={'ir50': [\"../pretrained/ir50_casia_adaface_07131_38ep.ckpt\", 'ir_50']}"
   ]
  },
  {
   "cell_type": "code",
   "execution_count": 10,
   "id": "1d87d390",
   "metadata": {},
   "outputs": [],
   "source": [
    "model = load_pretrained_model(model_name)"
   ]
  },
  {
   "cell_type": "code",
   "execution_count": 11,
   "id": "a3e8a6fa",
   "metadata": {},
   "outputs": [
    {
     "data": {
      "text/plain": [
       "Backbone(\n",
       "  (input_layer): Sequential(\n",
       "    (0): Conv2d(3, 64, kernel_size=(3, 3), stride=(1, 1), padding=(1, 1), bias=False)\n",
       "    (1): BatchNorm2d(64, eps=1e-05, momentum=0.1, affine=True, track_running_stats=True)\n",
       "    (2): PReLU(num_parameters=64)\n",
       "  )\n",
       "  (output_layer): Sequential(\n",
       "    (0): BatchNorm2d(512, eps=1e-05, momentum=0.1, affine=True, track_running_stats=True)\n",
       "    (1): Dropout(p=0.4, inplace=False)\n",
       "    (2): Flatten()\n",
       "    (3): Linear(in_features=25088, out_features=512, bias=True)\n",
       "    (4): BatchNorm1d(512, eps=1e-05, momentum=0.1, affine=False, track_running_stats=True)\n",
       "  )\n",
       "  (body): Sequential(\n",
       "    (0): BasicBlockIR(\n",
       "      (shortcut_layer): MaxPool2d(kernel_size=1, stride=2, padding=0, dilation=1, ceil_mode=False)\n",
       "      (res_layer): Sequential(\n",
       "        (0): BatchNorm2d(64, eps=1e-05, momentum=0.1, affine=True, track_running_stats=True)\n",
       "        (1): Conv2d(64, 64, kernel_size=(3, 3), stride=(1, 1), padding=(1, 1), bias=False)\n",
       "        (2): BatchNorm2d(64, eps=1e-05, momentum=0.1, affine=True, track_running_stats=True)\n",
       "        (3): PReLU(num_parameters=64)\n",
       "        (4): Conv2d(64, 64, kernel_size=(3, 3), stride=(2, 2), padding=(1, 1), bias=False)\n",
       "        (5): BatchNorm2d(64, eps=1e-05, momentum=0.1, affine=True, track_running_stats=True)\n",
       "      )\n",
       "    )\n",
       "    (1): BasicBlockIR(\n",
       "      (shortcut_layer): MaxPool2d(kernel_size=1, stride=1, padding=0, dilation=1, ceil_mode=False)\n",
       "      (res_layer): Sequential(\n",
       "        (0): BatchNorm2d(64, eps=1e-05, momentum=0.1, affine=True, track_running_stats=True)\n",
       "        (1): Conv2d(64, 64, kernel_size=(3, 3), stride=(1, 1), padding=(1, 1), bias=False)\n",
       "        (2): BatchNorm2d(64, eps=1e-05, momentum=0.1, affine=True, track_running_stats=True)\n",
       "        (3): PReLU(num_parameters=64)\n",
       "        (4): Conv2d(64, 64, kernel_size=(3, 3), stride=(1, 1), padding=(1, 1), bias=False)\n",
       "        (5): BatchNorm2d(64, eps=1e-05, momentum=0.1, affine=True, track_running_stats=True)\n",
       "      )\n",
       "    )\n",
       "    (2): BasicBlockIR(\n",
       "      (shortcut_layer): MaxPool2d(kernel_size=1, stride=1, padding=0, dilation=1, ceil_mode=False)\n",
       "      (res_layer): Sequential(\n",
       "        (0): BatchNorm2d(64, eps=1e-05, momentum=0.1, affine=True, track_running_stats=True)\n",
       "        (1): Conv2d(64, 64, kernel_size=(3, 3), stride=(1, 1), padding=(1, 1), bias=False)\n",
       "        (2): BatchNorm2d(64, eps=1e-05, momentum=0.1, affine=True, track_running_stats=True)\n",
       "        (3): PReLU(num_parameters=64)\n",
       "        (4): Conv2d(64, 64, kernel_size=(3, 3), stride=(1, 1), padding=(1, 1), bias=False)\n",
       "        (5): BatchNorm2d(64, eps=1e-05, momentum=0.1, affine=True, track_running_stats=True)\n",
       "      )\n",
       "    )\n",
       "    (3): BasicBlockIR(\n",
       "      (shortcut_layer): Sequential(\n",
       "        (0): Conv2d(64, 128, kernel_size=(1, 1), stride=(2, 2), bias=False)\n",
       "        (1): BatchNorm2d(128, eps=1e-05, momentum=0.1, affine=True, track_running_stats=True)\n",
       "      )\n",
       "      (res_layer): Sequential(\n",
       "        (0): BatchNorm2d(64, eps=1e-05, momentum=0.1, affine=True, track_running_stats=True)\n",
       "        (1): Conv2d(64, 128, kernel_size=(3, 3), stride=(1, 1), padding=(1, 1), bias=False)\n",
       "        (2): BatchNorm2d(128, eps=1e-05, momentum=0.1, affine=True, track_running_stats=True)\n",
       "        (3): PReLU(num_parameters=128)\n",
       "        (4): Conv2d(128, 128, kernel_size=(3, 3), stride=(2, 2), padding=(1, 1), bias=False)\n",
       "        (5): BatchNorm2d(128, eps=1e-05, momentum=0.1, affine=True, track_running_stats=True)\n",
       "      )\n",
       "    )\n",
       "    (4): BasicBlockIR(\n",
       "      (shortcut_layer): MaxPool2d(kernel_size=1, stride=1, padding=0, dilation=1, ceil_mode=False)\n",
       "      (res_layer): Sequential(\n",
       "        (0): BatchNorm2d(128, eps=1e-05, momentum=0.1, affine=True, track_running_stats=True)\n",
       "        (1): Conv2d(128, 128, kernel_size=(3, 3), stride=(1, 1), padding=(1, 1), bias=False)\n",
       "        (2): BatchNorm2d(128, eps=1e-05, momentum=0.1, affine=True, track_running_stats=True)\n",
       "        (3): PReLU(num_parameters=128)\n",
       "        (4): Conv2d(128, 128, kernel_size=(3, 3), stride=(1, 1), padding=(1, 1), bias=False)\n",
       "        (5): BatchNorm2d(128, eps=1e-05, momentum=0.1, affine=True, track_running_stats=True)\n",
       "      )\n",
       "    )\n",
       "    (5): BasicBlockIR(\n",
       "      (shortcut_layer): MaxPool2d(kernel_size=1, stride=1, padding=0, dilation=1, ceil_mode=False)\n",
       "      (res_layer): Sequential(\n",
       "        (0): BatchNorm2d(128, eps=1e-05, momentum=0.1, affine=True, track_running_stats=True)\n",
       "        (1): Conv2d(128, 128, kernel_size=(3, 3), stride=(1, 1), padding=(1, 1), bias=False)\n",
       "        (2): BatchNorm2d(128, eps=1e-05, momentum=0.1, affine=True, track_running_stats=True)\n",
       "        (3): PReLU(num_parameters=128)\n",
       "        (4): Conv2d(128, 128, kernel_size=(3, 3), stride=(1, 1), padding=(1, 1), bias=False)\n",
       "        (5): BatchNorm2d(128, eps=1e-05, momentum=0.1, affine=True, track_running_stats=True)\n",
       "      )\n",
       "    )\n",
       "    (6): BasicBlockIR(\n",
       "      (shortcut_layer): MaxPool2d(kernel_size=1, stride=1, padding=0, dilation=1, ceil_mode=False)\n",
       "      (res_layer): Sequential(\n",
       "        (0): BatchNorm2d(128, eps=1e-05, momentum=0.1, affine=True, track_running_stats=True)\n",
       "        (1): Conv2d(128, 128, kernel_size=(3, 3), stride=(1, 1), padding=(1, 1), bias=False)\n",
       "        (2): BatchNorm2d(128, eps=1e-05, momentum=0.1, affine=True, track_running_stats=True)\n",
       "        (3): PReLU(num_parameters=128)\n",
       "        (4): Conv2d(128, 128, kernel_size=(3, 3), stride=(1, 1), padding=(1, 1), bias=False)\n",
       "        (5): BatchNorm2d(128, eps=1e-05, momentum=0.1, affine=True, track_running_stats=True)\n",
       "      )\n",
       "    )\n",
       "    (7): BasicBlockIR(\n",
       "      (shortcut_layer): Sequential(\n",
       "        (0): Conv2d(128, 256, kernel_size=(1, 1), stride=(2, 2), bias=False)\n",
       "        (1): BatchNorm2d(256, eps=1e-05, momentum=0.1, affine=True, track_running_stats=True)\n",
       "      )\n",
       "      (res_layer): Sequential(\n",
       "        (0): BatchNorm2d(128, eps=1e-05, momentum=0.1, affine=True, track_running_stats=True)\n",
       "        (1): Conv2d(128, 256, kernel_size=(3, 3), stride=(1, 1), padding=(1, 1), bias=False)\n",
       "        (2): BatchNorm2d(256, eps=1e-05, momentum=0.1, affine=True, track_running_stats=True)\n",
       "        (3): PReLU(num_parameters=256)\n",
       "        (4): Conv2d(256, 256, kernel_size=(3, 3), stride=(2, 2), padding=(1, 1), bias=False)\n",
       "        (5): BatchNorm2d(256, eps=1e-05, momentum=0.1, affine=True, track_running_stats=True)\n",
       "      )\n",
       "    )\n",
       "    (8): BasicBlockIR(\n",
       "      (shortcut_layer): MaxPool2d(kernel_size=1, stride=1, padding=0, dilation=1, ceil_mode=False)\n",
       "      (res_layer): Sequential(\n",
       "        (0): BatchNorm2d(256, eps=1e-05, momentum=0.1, affine=True, track_running_stats=True)\n",
       "        (1): Conv2d(256, 256, kernel_size=(3, 3), stride=(1, 1), padding=(1, 1), bias=False)\n",
       "        (2): BatchNorm2d(256, eps=1e-05, momentum=0.1, affine=True, track_running_stats=True)\n",
       "        (3): PReLU(num_parameters=256)\n",
       "        (4): Conv2d(256, 256, kernel_size=(3, 3), stride=(1, 1), padding=(1, 1), bias=False)\n",
       "        (5): BatchNorm2d(256, eps=1e-05, momentum=0.1, affine=True, track_running_stats=True)\n",
       "      )\n",
       "    )\n",
       "    (9): BasicBlockIR(\n",
       "      (shortcut_layer): MaxPool2d(kernel_size=1, stride=1, padding=0, dilation=1, ceil_mode=False)\n",
       "      (res_layer): Sequential(\n",
       "        (0): BatchNorm2d(256, eps=1e-05, momentum=0.1, affine=True, track_running_stats=True)\n",
       "        (1): Conv2d(256, 256, kernel_size=(3, 3), stride=(1, 1), padding=(1, 1), bias=False)\n",
       "        (2): BatchNorm2d(256, eps=1e-05, momentum=0.1, affine=True, track_running_stats=True)\n",
       "        (3): PReLU(num_parameters=256)\n",
       "        (4): Conv2d(256, 256, kernel_size=(3, 3), stride=(1, 1), padding=(1, 1), bias=False)\n",
       "        (5): BatchNorm2d(256, eps=1e-05, momentum=0.1, affine=True, track_running_stats=True)\n",
       "      )\n",
       "    )\n",
       "    (10): BasicBlockIR(\n",
       "      (shortcut_layer): MaxPool2d(kernel_size=1, stride=1, padding=0, dilation=1, ceil_mode=False)\n",
       "      (res_layer): Sequential(\n",
       "        (0): BatchNorm2d(256, eps=1e-05, momentum=0.1, affine=True, track_running_stats=True)\n",
       "        (1): Conv2d(256, 256, kernel_size=(3, 3), stride=(1, 1), padding=(1, 1), bias=False)\n",
       "        (2): BatchNorm2d(256, eps=1e-05, momentum=0.1, affine=True, track_running_stats=True)\n",
       "        (3): PReLU(num_parameters=256)\n",
       "        (4): Conv2d(256, 256, kernel_size=(3, 3), stride=(1, 1), padding=(1, 1), bias=False)\n",
       "        (5): BatchNorm2d(256, eps=1e-05, momentum=0.1, affine=True, track_running_stats=True)\n",
       "      )\n",
       "    )\n",
       "    (11): BasicBlockIR(\n",
       "      (shortcut_layer): MaxPool2d(kernel_size=1, stride=1, padding=0, dilation=1, ceil_mode=False)\n",
       "      (res_layer): Sequential(\n",
       "        (0): BatchNorm2d(256, eps=1e-05, momentum=0.1, affine=True, track_running_stats=True)\n",
       "        (1): Conv2d(256, 256, kernel_size=(3, 3), stride=(1, 1), padding=(1, 1), bias=False)\n",
       "        (2): BatchNorm2d(256, eps=1e-05, momentum=0.1, affine=True, track_running_stats=True)\n",
       "        (3): PReLU(num_parameters=256)\n",
       "        (4): Conv2d(256, 256, kernel_size=(3, 3), stride=(1, 1), padding=(1, 1), bias=False)\n",
       "        (5): BatchNorm2d(256, eps=1e-05, momentum=0.1, affine=True, track_running_stats=True)\n",
       "      )\n",
       "    )\n",
       "    (12): BasicBlockIR(\n",
       "      (shortcut_layer): MaxPool2d(kernel_size=1, stride=1, padding=0, dilation=1, ceil_mode=False)\n",
       "      (res_layer): Sequential(\n",
       "        (0): BatchNorm2d(256, eps=1e-05, momentum=0.1, affine=True, track_running_stats=True)\n",
       "        (1): Conv2d(256, 256, kernel_size=(3, 3), stride=(1, 1), padding=(1, 1), bias=False)\n",
       "        (2): BatchNorm2d(256, eps=1e-05, momentum=0.1, affine=True, track_running_stats=True)\n",
       "        (3): PReLU(num_parameters=256)\n",
       "        (4): Conv2d(256, 256, kernel_size=(3, 3), stride=(1, 1), padding=(1, 1), bias=False)\n",
       "        (5): BatchNorm2d(256, eps=1e-05, momentum=0.1, affine=True, track_running_stats=True)\n",
       "      )\n",
       "    )\n",
       "    (13): BasicBlockIR(\n",
       "      (shortcut_layer): MaxPool2d(kernel_size=1, stride=1, padding=0, dilation=1, ceil_mode=False)\n",
       "      (res_layer): Sequential(\n",
       "        (0): BatchNorm2d(256, eps=1e-05, momentum=0.1, affine=True, track_running_stats=True)\n",
       "        (1): Conv2d(256, 256, kernel_size=(3, 3), stride=(1, 1), padding=(1, 1), bias=False)\n",
       "        (2): BatchNorm2d(256, eps=1e-05, momentum=0.1, affine=True, track_running_stats=True)\n",
       "        (3): PReLU(num_parameters=256)\n",
       "        (4): Conv2d(256, 256, kernel_size=(3, 3), stride=(1, 1), padding=(1, 1), bias=False)\n",
       "        (5): BatchNorm2d(256, eps=1e-05, momentum=0.1, affine=True, track_running_stats=True)\n",
       "      )\n",
       "    )\n",
       "    (14): BasicBlockIR(\n",
       "      (shortcut_layer): MaxPool2d(kernel_size=1, stride=1, padding=0, dilation=1, ceil_mode=False)\n",
       "      (res_layer): Sequential(\n",
       "        (0): BatchNorm2d(256, eps=1e-05, momentum=0.1, affine=True, track_running_stats=True)\n",
       "        (1): Conv2d(256, 256, kernel_size=(3, 3), stride=(1, 1), padding=(1, 1), bias=False)\n",
       "        (2): BatchNorm2d(256, eps=1e-05, momentum=0.1, affine=True, track_running_stats=True)\n",
       "        (3): PReLU(num_parameters=256)\n",
       "        (4): Conv2d(256, 256, kernel_size=(3, 3), stride=(1, 1), padding=(1, 1), bias=False)\n",
       "        (5): BatchNorm2d(256, eps=1e-05, momentum=0.1, affine=True, track_running_stats=True)\n",
       "      )\n",
       "    )\n",
       "    (15): BasicBlockIR(\n",
       "      (shortcut_layer): MaxPool2d(kernel_size=1, stride=1, padding=0, dilation=1, ceil_mode=False)\n",
       "      (res_layer): Sequential(\n",
       "        (0): BatchNorm2d(256, eps=1e-05, momentum=0.1, affine=True, track_running_stats=True)\n",
       "        (1): Conv2d(256, 256, kernel_size=(3, 3), stride=(1, 1), padding=(1, 1), bias=False)\n",
       "        (2): BatchNorm2d(256, eps=1e-05, momentum=0.1, affine=True, track_running_stats=True)\n",
       "        (3): PReLU(num_parameters=256)\n",
       "        (4): Conv2d(256, 256, kernel_size=(3, 3), stride=(1, 1), padding=(1, 1), bias=False)\n",
       "        (5): BatchNorm2d(256, eps=1e-05, momentum=0.1, affine=True, track_running_stats=True)\n",
       "      )\n",
       "    )\n",
       "    (16): BasicBlockIR(\n",
       "      (shortcut_layer): MaxPool2d(kernel_size=1, stride=1, padding=0, dilation=1, ceil_mode=False)\n",
       "      (res_layer): Sequential(\n",
       "        (0): BatchNorm2d(256, eps=1e-05, momentum=0.1, affine=True, track_running_stats=True)\n",
       "        (1): Conv2d(256, 256, kernel_size=(3, 3), stride=(1, 1), padding=(1, 1), bias=False)\n",
       "        (2): BatchNorm2d(256, eps=1e-05, momentum=0.1, affine=True, track_running_stats=True)\n",
       "        (3): PReLU(num_parameters=256)\n",
       "        (4): Conv2d(256, 256, kernel_size=(3, 3), stride=(1, 1), padding=(1, 1), bias=False)\n",
       "        (5): BatchNorm2d(256, eps=1e-05, momentum=0.1, affine=True, track_running_stats=True)\n",
       "      )\n",
       "    )\n",
       "    (17): BasicBlockIR(\n",
       "      (shortcut_layer): MaxPool2d(kernel_size=1, stride=1, padding=0, dilation=1, ceil_mode=False)\n",
       "      (res_layer): Sequential(\n",
       "        (0): BatchNorm2d(256, eps=1e-05, momentum=0.1, affine=True, track_running_stats=True)\n",
       "        (1): Conv2d(256, 256, kernel_size=(3, 3), stride=(1, 1), padding=(1, 1), bias=False)\n",
       "        (2): BatchNorm2d(256, eps=1e-05, momentum=0.1, affine=True, track_running_stats=True)\n",
       "        (3): PReLU(num_parameters=256)\n",
       "        (4): Conv2d(256, 256, kernel_size=(3, 3), stride=(1, 1), padding=(1, 1), bias=False)\n",
       "        (5): BatchNorm2d(256, eps=1e-05, momentum=0.1, affine=True, track_running_stats=True)\n",
       "      )\n",
       "    )\n",
       "    (18): BasicBlockIR(\n",
       "      (shortcut_layer): MaxPool2d(kernel_size=1, stride=1, padding=0, dilation=1, ceil_mode=False)\n",
       "      (res_layer): Sequential(\n",
       "        (0): BatchNorm2d(256, eps=1e-05, momentum=0.1, affine=True, track_running_stats=True)\n",
       "        (1): Conv2d(256, 256, kernel_size=(3, 3), stride=(1, 1), padding=(1, 1), bias=False)\n",
       "        (2): BatchNorm2d(256, eps=1e-05, momentum=0.1, affine=True, track_running_stats=True)\n",
       "        (3): PReLU(num_parameters=256)\n",
       "        (4): Conv2d(256, 256, kernel_size=(3, 3), stride=(1, 1), padding=(1, 1), bias=False)\n",
       "        (5): BatchNorm2d(256, eps=1e-05, momentum=0.1, affine=True, track_running_stats=True)\n",
       "      )\n",
       "    )\n",
       "    (19): BasicBlockIR(\n",
       "      (shortcut_layer): MaxPool2d(kernel_size=1, stride=1, padding=0, dilation=1, ceil_mode=False)\n",
       "      (res_layer): Sequential(\n",
       "        (0): BatchNorm2d(256, eps=1e-05, momentum=0.1, affine=True, track_running_stats=True)\n",
       "        (1): Conv2d(256, 256, kernel_size=(3, 3), stride=(1, 1), padding=(1, 1), bias=False)\n",
       "        (2): BatchNorm2d(256, eps=1e-05, momentum=0.1, affine=True, track_running_stats=True)\n",
       "        (3): PReLU(num_parameters=256)\n",
       "        (4): Conv2d(256, 256, kernel_size=(3, 3), stride=(1, 1), padding=(1, 1), bias=False)\n",
       "        (5): BatchNorm2d(256, eps=1e-05, momentum=0.1, affine=True, track_running_stats=True)\n",
       "      )\n",
       "    )\n",
       "    (20): BasicBlockIR(\n",
       "      (shortcut_layer): MaxPool2d(kernel_size=1, stride=1, padding=0, dilation=1, ceil_mode=False)\n",
       "      (res_layer): Sequential(\n",
       "        (0): BatchNorm2d(256, eps=1e-05, momentum=0.1, affine=True, track_running_stats=True)\n",
       "        (1): Conv2d(256, 256, kernel_size=(3, 3), stride=(1, 1), padding=(1, 1), bias=False)\n",
       "        (2): BatchNorm2d(256, eps=1e-05, momentum=0.1, affine=True, track_running_stats=True)\n",
       "        (3): PReLU(num_parameters=256)\n",
       "        (4): Conv2d(256, 256, kernel_size=(3, 3), stride=(1, 1), padding=(1, 1), bias=False)\n",
       "        (5): BatchNorm2d(256, eps=1e-05, momentum=0.1, affine=True, track_running_stats=True)\n",
       "      )\n",
       "    )\n",
       "    (21): BasicBlockIR(\n",
       "      (shortcut_layer): Sequential(\n",
       "        (0): Conv2d(256, 512, kernel_size=(1, 1), stride=(2, 2), bias=False)\n",
       "        (1): BatchNorm2d(512, eps=1e-05, momentum=0.1, affine=True, track_running_stats=True)\n",
       "      )\n",
       "      (res_layer): Sequential(\n",
       "        (0): BatchNorm2d(256, eps=1e-05, momentum=0.1, affine=True, track_running_stats=True)\n",
       "        (1): Conv2d(256, 512, kernel_size=(3, 3), stride=(1, 1), padding=(1, 1), bias=False)\n",
       "        (2): BatchNorm2d(512, eps=1e-05, momentum=0.1, affine=True, track_running_stats=True)\n",
       "        (3): PReLU(num_parameters=512)\n",
       "        (4): Conv2d(512, 512, kernel_size=(3, 3), stride=(2, 2), padding=(1, 1), bias=False)\n",
       "        (5): BatchNorm2d(512, eps=1e-05, momentum=0.1, affine=True, track_running_stats=True)\n",
       "      )\n",
       "    )\n",
       "    (22): BasicBlockIR(\n",
       "      (shortcut_layer): MaxPool2d(kernel_size=1, stride=1, padding=0, dilation=1, ceil_mode=False)\n",
       "      (res_layer): Sequential(\n",
       "        (0): BatchNorm2d(512, eps=1e-05, momentum=0.1, affine=True, track_running_stats=True)\n",
       "        (1): Conv2d(512, 512, kernel_size=(3, 3), stride=(1, 1), padding=(1, 1), bias=False)\n",
       "        (2): BatchNorm2d(512, eps=1e-05, momentum=0.1, affine=True, track_running_stats=True)\n",
       "        (3): PReLU(num_parameters=512)\n",
       "        (4): Conv2d(512, 512, kernel_size=(3, 3), stride=(1, 1), padding=(1, 1), bias=False)\n",
       "        (5): BatchNorm2d(512, eps=1e-05, momentum=0.1, affine=True, track_running_stats=True)\n",
       "      )\n",
       "    )\n",
       "    (23): BasicBlockIR(\n",
       "      (shortcut_layer): MaxPool2d(kernel_size=1, stride=1, padding=0, dilation=1, ceil_mode=False)\n",
       "      (res_layer): Sequential(\n",
       "        (0): BatchNorm2d(512, eps=1e-05, momentum=0.1, affine=True, track_running_stats=True)\n",
       "        (1): Conv2d(512, 512, kernel_size=(3, 3), stride=(1, 1), padding=(1, 1), bias=False)\n",
       "        (2): BatchNorm2d(512, eps=1e-05, momentum=0.1, affine=True, track_running_stats=True)\n",
       "        (3): PReLU(num_parameters=512)\n",
       "        (4): Conv2d(512, 512, kernel_size=(3, 3), stride=(1, 1), padding=(1, 1), bias=False)\n",
       "        (5): BatchNorm2d(512, eps=1e-05, momentum=0.1, affine=True, track_running_stats=True)\n",
       "      )\n",
       "    )\n",
       "  )\n",
       ")"
      ]
     },
     "execution_count": 11,
     "metadata": {},
     "output_type": "execute_result"
    }
   ],
   "source": [
    "model.cuda()"
   ]
  },
  {
   "cell_type": "code",
   "execution_count": 10,
   "id": "e7100b7a",
   "metadata": {},
   "outputs": [],
   "source": [
    "survface_test = survface_helper.TinyFaceTest(tinyface_root='/home/taes/face_data',\n",
    "                                                 alignment_dir_name='surv_align')"
   ]
  },
  {
   "cell_type": "code",
   "execution_count": 11,
   "id": "7d667f28",
   "metadata": {},
   "outputs": [],
   "source": [
    "fusion_method = 'pre_norm_vector_add'"
   ]
  },
  {
   "cell_type": "code",
   "execution_count": 12,
   "id": "7830aac1",
   "metadata": {},
   "outputs": [],
   "source": [
    "save_path = os.path.join('./survface_result', model_name, \"fusion_{}\".format(fusion_method))\n"
   ]
  },
  {
   "cell_type": "code",
   "execution_count": 13,
   "id": "eb5a9b9b",
   "metadata": {},
   "outputs": [
    {
     "data": {
      "text/plain": [
       "'./survface_result/ir50/fusion_pre_norm_vector_add'"
      ]
     },
     "execution_count": 13,
     "metadata": {},
     "output_type": "execute_result"
    }
   ],
   "source": [
    "save_path"
   ]
  },
  {
   "cell_type": "code",
   "execution_count": 20,
   "id": "b3fd3a5d",
   "metadata": {},
   "outputs": [],
   "source": [
    "if not os.path.exists(save_path):\n",
    "    os.makedirs(save_path)\n"
   ]
  },
  {
   "cell_type": "code",
   "execution_count": 21,
   "id": "4c583449",
   "metadata": {},
   "outputs": [
    {
     "name": "stdout",
     "output_type": "stream",
     "text": [
      "save_path: ./survface_result/ir50/fusion_pre_norm_vector_add\n"
     ]
    }
   ],
   "source": [
    "print('save_path: {}'.format(save_path))\n"
   ]
  },
  {
   "cell_type": "code",
   "execution_count": 22,
   "id": "af8db559",
   "metadata": {},
   "outputs": [],
   "source": [
    "img_paths = survface_test.image_paths"
   ]
  },
  {
   "cell_type": "code",
   "execution_count": 23,
   "id": "b54423f0",
   "metadata": {},
   "outputs": [
    {
     "data": {
      "text/plain": [
       "array(['/home/taes/face_data/surv_align/unmated_probe/distractors_22572.jpg',\n",
       "       '/home/taes/face_data/surv_align/unmated_probe/distractors_2519.jpg',\n",
       "       '/home/taes/face_data/surv_align/unmated_probe/5737_cam1_86.jpg',\n",
       "       ...,\n",
       "       '/home/taes/face_data/surv_align/mated_probe/9448_cam2_119.jpg',\n",
       "       '/home/taes/face_data/surv_align/mated_probe/9637_cam3_20.jpg',\n",
       "       '/home/taes/face_data/surv_align/mated_probe/10493_cam3_81.jpg'],\n",
       "      dtype=object)"
      ]
     },
     "execution_count": 23,
     "metadata": {},
     "output_type": "execute_result"
    }
   ],
   "source": [
    "img_paths"
   ]
  },
  {
   "cell_type": "code",
   "execution_count": 24,
   "id": "0057fac1",
   "metadata": {},
   "outputs": [
    {
     "name": "stdout",
     "output_type": "stream",
     "text": [
      "total images : 242453\n"
     ]
    }
   ],
   "source": [
    "print('total images : {}'.format(len(img_paths)))"
   ]
  },
  {
   "cell_type": "code",
   "execution_count": 26,
   "id": "48ca4e29",
   "metadata": {},
   "outputs": [],
   "source": [
    "batch_size = 32"
   ]
  },
  {
   "cell_type": "code",
   "execution_count": 27,
   "id": "90d4d26a",
   "metadata": {},
   "outputs": [],
   "source": [
    "dataloader = data_utils.prepare_dataloader(img_paths,  batch_size, num_workers=0)"
   ]
  },
  {
   "cell_type": "code",
   "execution_count": 31,
   "id": "156419f3",
   "metadata": {},
   "outputs": [
    {
     "name": "stderr",
     "output_type": "stream",
     "text": [
      "100%|████████████████████████████████████████████████████████████████████████████████████████████████████████████████████████████████████████████████████████████████████████████████████████████████████| 7577/7577 [14:54<00:00,  8.47it/s]\n"
     ]
    }
   ],
   "source": [
    "features, norms = infer(model, dataloader, use_flip_test=True, fusion_method=fusion_method)"
   ]
  },
  {
   "cell_type": "code",
   "execution_count": 33,
   "id": "d5cb3356",
   "metadata": {},
   "outputs": [
    {
     "data": {
      "text/plain": [
       "numpy.ndarray"
      ]
     },
     "execution_count": 33,
     "metadata": {},
     "output_type": "execute_result"
    }
   ],
   "source": [
    "type(features)"
   ]
  },
  {
   "cell_type": "code",
   "execution_count": 16,
   "id": "e0063512",
   "metadata": {},
   "outputs": [],
   "source": [
    "import pickle"
   ]
  },
  {
   "cell_type": "code",
   "execution_count": 17,
   "id": "49501736",
   "metadata": {},
   "outputs": [],
   "source": [
    "# with open('./suv_feature_test.pickle', 'wb') as f:\n",
    "#     pickle.dump(features, f)"
   ]
  },
  {
   "cell_type": "code",
   "execution_count": 18,
   "id": "5d91ac64",
   "metadata": {},
   "outputs": [],
   "source": [
    "# with open('./suv_norm_test.pickle', 'wb') as f:\n",
    "#     pickle.dump(norms, f)"
   ]
  },
  {
   "cell_type": "code",
   "execution_count": 19,
   "id": "ea61e7ca",
   "metadata": {},
   "outputs": [],
   "source": [
    "with open('suv_feature_test.pickle', 'rb') as f:\n",
    "    features = pickle.load(f)\n"
   ]
  },
  {
   "cell_type": "code",
   "execution_count": 20,
   "id": "1ea2bcb8",
   "metadata": {},
   "outputs": [],
   "source": [
    "with open('suv_norm_test.pickle', 'rb') as f:\n",
    "    norms = pickle.load(f)\n"
   ]
  },
  {
   "cell_type": "code",
   "execution_count": 12,
   "id": "f0e7814e",
   "metadata": {},
   "outputs": [
    {
     "ename": "NameError",
     "evalue": "name 'survface_test' is not defined",
     "output_type": "error",
     "traceback": [
      "\u001b[0;31m---------------------------------------------------------------------------\u001b[0m",
      "\u001b[0;31mNameError\u001b[0m                                 Traceback (most recent call last)",
      "\u001b[0;32m/tmp/ipykernel_24704/2731816199.py\u001b[0m in \u001b[0;36m<module>\u001b[0;34m\u001b[0m\n\u001b[0;32m----> 1\u001b[0;31m \u001b[0mresults\u001b[0m \u001b[0;34m=\u001b[0m \u001b[0msurvface_test\u001b[0m\u001b[0;34m.\u001b[0m\u001b[0mtest_identification\u001b[0m\u001b[0;34m(\u001b[0m\u001b[0mfeatures\u001b[0m\u001b[0;34m,\u001b[0m \u001b[0mranks\u001b[0m\u001b[0;34m=\u001b[0m\u001b[0;34m[\u001b[0m\u001b[0;36m1\u001b[0m\u001b[0;34m,\u001b[0m\u001b[0;36m5\u001b[0m\u001b[0;34m,\u001b[0m\u001b[0;36m20\u001b[0m\u001b[0;34m]\u001b[0m\u001b[0;34m)\u001b[0m\u001b[0;34m\u001b[0m\u001b[0m\n\u001b[0m",
      "\u001b[0;31mNameError\u001b[0m: name 'survface_test' is not defined"
     ]
    }
   ],
   "source": [
    "results = survface_test.test_identification(features, ranks=[1,5,20])"
   ]
  },
  {
   "cell_type": "code",
   "execution_count": 24,
   "id": "0b5bfc54",
   "metadata": {},
   "outputs": [],
   "source": [
    "# def process_chunk(score_mat_chunk, label_mat, ranks, thresholds):\n",
    "#     \"\"\"\n",
    "#     Process a chunk of score_mat using the core logic of DIR_FAR.\n",
    "#     Return aggregated DIRs for the chunk.\n",
    "#     \"\"\"\n",
    "#     # Place the core logic of DIR_FAR here and adapt as needed to process score_mat_chunk\n",
    "    \n",
    "#     # For example:\n",
    "#     DIRs_chunked = np.zeros([len(thresholds), len(ranks)], dtype=np.float32)\n",
    "    \n",
    "#     sort_idx_mat_chunk = np.argsort(score_mat_chunk, axis=1)\n",
    "#     sorted_label_mat_chunk = np.array([label_mat[i][sort_idx_mat_chunk[i][::-1]] for i in range(label_mat.shape[0])])\n",
    "    \n",
    "#     for i, threshold in enumerate(thresholds):\n",
    "#         for j, rank in enumerate(ranks):\n",
    "#             success_retrieval = sorted_label_mat_chunk[:, 0:rank].any(axis=1)\n",
    "#             DIRs_chunked[i, j] += success_retrieval.sum()\n",
    "    \n",
    "#     return DIRs_chunked\n"
   ]
  },
  {
   "cell_type": "code",
   "execution_count": 23,
   "id": "fda57b03",
   "metadata": {},
   "outputs": [],
   "source": [
    "# def process_chunk(score_mat_chunk, label_mat, ranks, thresholds):\n",
    "#     \"\"\"\n",
    "#     Process a chunk of score_mat using the core logic of DIR_FAR.\n",
    "#     Return aggregated DIRs for the chunk.\n",
    "#     \"\"\"\n",
    "#     # Place the core logic of DIR_FAR here and adapt as needed to process score_mat_chunk\n",
    "    \n",
    "#     # For example:\n",
    "#     assert score_mat.shape==label_mat.shape\n",
    "#     # assert np.all(label_mat.astype(np.float32).sum(axis=1) <=1 )\n",
    "#     # Split the matrix for match probes and non-match probes\n",
    "#     # subfix _m: match, _nm: non-match\n",
    "#     # For closed set, we only use the match probes\n",
    "#     match_indices = label_mat.astype(np.bool).any(axis=1)\n",
    "#     score_mat_m = score_mat[match_indices,:]\n",
    "#     label_mat_m = label_mat[match_indices,:]\n",
    "#     score_mat_nm = score_mat[np.logical_not(match_indices),:]\n",
    "#     label_mat_nm = label_mat[np.logical_not(match_indices),:]\n",
    "\n",
    "#     print('mate probes: %d, non mate probes: %d' % (score_mat_m.shape[0], score_mat_nm.shape[0]))\n",
    "\n",
    "#     # Find the thresholds for different FARs\n",
    "#     max_score_nm = np.max(score_mat_nm, axis=1)\n",
    "#     label_temp = np.zeros(max_score_nm.shape, dtype=np.bool)\n",
    "#     if len(FARs) == 1 and FARs[0] >= 1.0:\n",
    "#         # If only testing closed-set identification, use the minimum score as threshold\n",
    "#         # in case there is no non-mate probes\n",
    "#         thresholds = [np.min(score_mat) - 1e-10]\n",
    "#         openset = False\n",
    "#     else:\n",
    "#         # If there is open-set identification, find the thresholds by FARs.\n",
    "#         assert score_mat_nm.shape[0] > 0, \"For open-set identification (FAR<1.0), there should be at least one non-mate probe!\"\n",
    "#         thresholds = find_thresholds_by_FAR(max_score_nm, label_temp, FARs=FARs)\n",
    "#         openset = True\n",
    "\n",
    "#     # Sort the labels row by row according to scores\n",
    "#     sort_idx_mat_m = np.argsort(score_mat_m, axis=1)\n",
    "#     sorted_label_mat_m = np.ndarray(label_mat_m.shape, dtype=np.bool)\n",
    "#     for row in range(label_mat_m.shape[0]):\n",
    "#         sort_idx = (sort_idx_mat_m[row, :])[::-1]\n",
    "#         sorted_label_mat_m[row,:] = label_mat_m[row, sort_idx]\n",
    "\n",
    "#     # Calculate DIRs for different FARs and ranks\n",
    "#     if openset:\n",
    "#         gt_score_m = score_mat_m[label_mat_m]\n",
    "#         assert gt_score_m.size == score_mat_m.shape[0]\n",
    "\n",
    "#     DIRs = np.zeros([len(FARs), len(ranks)], dtype=np.float32)\n",
    "#     FARs = np.zeros([len(FARs)], dtype=np.float32)\n",
    "#     if get_false_indices:\n",
    "#         false_retrieval = np.zeros([len(FARs), len(ranks), score_mat_m.shape[0]], dtype=np.bool)\n",
    "#         false_reject = np.zeros([len(FARs), len(ranks), score_mat_m.shape[0]], dtype=np.bool)\n",
    "#         false_accept = np.zeros([len(FARs), len(ranks), score_mat_nm.shape[0]], dtype=np.bool)\n",
    "#     for i, threshold in enumerate(thresholds):\n",
    "#         for j, rank  in enumerate(ranks):\n",
    "#             success_retrieval = sorted_label_mat_m[:,0:rank].any(axis=1)\n",
    "#             if openset:\n",
    "#                 success_threshold = gt_score_m >= threshold\n",
    "#                 DIRs[i,j] = (success_threshold & success_retrieval).astype(np.float32).mean()\n",
    "#             else:\n",
    "#                 DIRs[i,j] = success_retrieval.astype(np.float32).mean()\n",
    "#             if get_false_indices:\n",
    "#                 false_retrieval[i,j] = ~success_retrieval\n",
    "#                 false_accept[i,j] = score_mat_nm.max(1) >= threshold\n",
    "#                 if openset:\n",
    "#                     false_reject[i,j] = ~success_threshold\n",
    "#         if score_mat_nm.shape[0] > 0:\n",
    "#             FARs[i] = (max_score_nm >= threshold).astype(np.float32).mean()\n",
    "\n",
    "#     if DIRs.shape[0] == 1 or DIRs.shape[1] == 1:\n",
    "#         DIRs = DIRs.flatten()\n",
    "\n",
    "#     if get_false_indices:\n",
    "#         return DIRs, FARs, thresholds, match_indices, false_retrieval, false_reject, false_accept, sort_idx_mat_m\n",
    "#     else:\n",
    "#         return DIRs, FARs, thresholds\n"
   ]
  },
  {
   "cell_type": "code",
   "execution_count": 19,
   "id": "613a02ea",
   "metadata": {},
   "outputs": [],
   "source": [
    "# def test_identification(self, features, ranks=[1,5,20], chunk_size=1000):\n",
    "#     feat_probe = features[self.indices_probe]\n",
    "#     feat_gallery = features[self.indices_gallery]\n",
    "    \n",
    "#     label_mat = self.labels_probe[:, None] == self.labels_gallery[None, :]\n",
    "    \n",
    "#     # Determine thresholds and other preprocessing as in your original function\n",
    "#     # ...\n",
    "\n",
    "#     total_results = np.zeros([len(thresholds), len(ranks)], dtype=np.float32)\n",
    "    \n",
    "#     num_chunks = len(feat_probe) // chunk_size + (len(feat_probe) % chunk_size != 0)\n",
    "#     for i in range(num_chunks):\n",
    "#         start_idx = i * chunk_size\n",
    "#         end_idx = min((i + 1) * chunk_size, len(feat_probe))\n",
    "        \n",
    "#         feat_probe_chunk = feat_probe[start_idx:end_idx]\n",
    "#         score_mat_chunk = np.dot(feat_probe_chunk, feat_gallery.T)\n",
    "        \n",
    "#         chunk_results = process_chunk(score_mat_chunk, label_mat[start_idx:end_idx], ranks, thresholds)\n",
    "        \n",
    "#         total_results += chunk_results\n",
    "\n",
    "#     # Average the results if needed\n",
    "#     total_results /= num_chunks\n",
    "    \n",
    "#     return total_results\n"
   ]
  },
  {
   "cell_type": "code",
   "execution_count": 22,
   "id": "194e34f0",
   "metadata": {},
   "outputs": [],
   "source": [
    "def test_identification(self, features, ranks=[1,5,20]):\n",
    "    feat_probe = features[self.indices_probe]\n",
    "    feat_gallery = features[self.indices_gallery]\n",
    "    print(feat_probe.shape)\n",
    "    print(feat_gallery.shape)\n",
    "    # Use chunked inner product instead of direct matrix multiplication\n",
    "    return feat_probe,feat_gallery\n",
    "    score_mat = self.chunked_inner_product(feat_probe, feat_gallery)\n",
    "\n",
    "    label_mat = self.labels_probe[:,None] == self.labels_gallery[None,:]\n",
    "\n",
    "    results, _, __ = DIR_FAR(score_mat, label_mat, ranks)\n",
    "\n",
    "    return results\n"
   ]
  },
  {
   "cell_type": "code",
   "execution_count": 23,
   "id": "7268ec22",
   "metadata": {},
   "outputs": [
    {
     "name": "stdout",
     "output_type": "stream",
     "text": [
      "(60294, 512)\n",
      "(182159, 512)\n"
     ]
    }
   ],
   "source": [
    "feat_probe,feat_gallery=test_identification(survface_test,features, ranks=[1,5,20])"
   ]
  },
  {
   "cell_type": "code",
   "execution_count": null,
   "id": "55a6e7a8",
   "metadata": {},
   "outputs": [],
   "source": []
  },
  {
   "cell_type": "code",
   "execution_count": 26,
   "id": "5bf6d8b8",
   "metadata": {},
   "outputs": [],
   "source": [
    "label_mat = survface_test.labels_probe[:,None] == survface_test.labels_gallery[None,:]"
   ]
  },
  {
   "cell_type": "code",
   "execution_count": 27,
   "id": "900887a5",
   "metadata": {},
   "outputs": [
    {
     "data": {
      "text/plain": [
       "(60294, 182159)"
      ]
     },
     "execution_count": 27,
     "metadata": {},
     "output_type": "execute_result"
    }
   ],
   "source": [
    "label_mat.shape"
   ]
  },
  {
   "cell_type": "markdown",
   "id": "303f43c6",
   "metadata": {},
   "source": [
    "score mat 60294 * 182159"
   ]
  },
  {
   "cell_type": "code",
   "execution_count": 18,
   "id": "b78fbb23",
   "metadata": {},
   "outputs": [],
   "source": [
    "# results = test_identification(survface_test,features, ranks=[1,5,20])"
   ]
  },
  {
   "cell_type": "code",
   "execution_count": 25,
   "id": "76cd0aa1",
   "metadata": {},
   "outputs": [],
   "source": [
    "score_mat=inner_product(feat_probe,feat_gallery)"
   ]
  },
  {
   "cell_type": "code",
   "execution_count": 30,
   "id": "fe17035e",
   "metadata": {},
   "outputs": [
    {
     "data": {
      "text/plain": [
       "(60294, 182159)"
      ]
     },
     "execution_count": 30,
     "metadata": {},
     "output_type": "execute_result"
    }
   ],
   "source": [
    "score_mat.shape"
   ]
  },
  {
   "cell_type": "code",
   "execution_count": 26,
   "id": "c66a0622",
   "metadata": {},
   "outputs": [
    {
     "data": {
      "text/plain": [
       "numpy.ndarray"
      ]
     },
     "execution_count": 26,
     "metadata": {},
     "output_type": "execute_result"
    }
   ],
   "source": [
    "type(score_mat)"
   ]
  },
  {
   "cell_type": "code",
   "execution_count": 28,
   "id": "01106b42",
   "metadata": {},
   "outputs": [
    {
     "data": {
      "text/plain": [
       "(60294, 182159)"
      ]
     },
     "execution_count": 28,
     "metadata": {},
     "output_type": "execute_result"
    }
   ],
   "source": [
    "score_mat.shape"
   ]
  },
  {
   "cell_type": "code",
   "execution_count": null,
   "id": "f1f1842b",
   "metadata": {},
   "outputs": [],
   "source": []
  },
  {
   "cell_type": "code",
   "execution_count": null,
   "id": "55d12248",
   "metadata": {},
   "outputs": [],
   "source": [
    "with open('./suv_score_mat_test.pickle', 'wb') as f:\n",
    "    pickle.dump(score_mat, f)"
   ]
  },
  {
   "cell_type": "code",
   "execution_count": 29,
   "id": "80cbb901",
   "metadata": {},
   "outputs": [
    {
     "data": {
      "text/plain": [
       "(60294, 512)"
      ]
     },
     "execution_count": 29,
     "metadata": {},
     "output_type": "execute_result"
    }
   ],
   "source": [
    "feat_probe.shape"
   ]
  },
  {
   "cell_type": "code",
   "execution_count": 69,
   "id": "a804cb7a",
   "metadata": {},
   "outputs": [
    {
     "data": {
      "text/plain": [
       "1"
      ]
     },
     "execution_count": 69,
     "metadata": {},
     "output_type": "execute_result"
    }
   ],
   "source": [
    "1 if feat_probe.shape[0]%10000>0 else 0"
   ]
  },
  {
   "cell_type": "code",
   "execution_count": 70,
   "id": "ef1c4360",
   "metadata": {},
   "outputs": [
    {
     "data": {
      "text/plain": [
       "7"
      ]
     },
     "execution_count": 70,
     "metadata": {},
     "output_type": "execute_result"
    }
   ],
   "source": [
    "int(feat_probe.shape[0]/10000) + 1 if feat_probe.shape[0]%10000>0 else 0"
   ]
  },
  {
   "cell_type": "code",
   "execution_count": 75,
   "id": "869546c5",
   "metadata": {},
   "outputs": [
    {
     "data": {
      "text/plain": [
       "(294, 512)"
      ]
     },
     "execution_count": 75,
     "metadata": {},
     "output_type": "execute_result"
    }
   ],
   "source": [
    "feat_probe[60000:70000].shape"
   ]
  },
  {
   "cell_type": "code",
   "execution_count": null,
   "id": "0598289d",
   "metadata": {},
   "outputs": [],
   "source": [
    "range()"
   ]
  },
  {
   "cell_type": "code",
   "execution_count": 72,
   "id": "a0bf7595",
   "metadata": {},
   "outputs": [],
   "source": [
    "import math"
   ]
  },
  {
   "cell_type": "code",
   "execution_count": 76,
   "id": "54b83a16",
   "metadata": {},
   "outputs": [
    {
     "data": {
      "text/plain": [
       "7"
      ]
     },
     "execution_count": 76,
     "metadata": {},
     "output_type": "execute_result"
    }
   ],
   "source": [
    "math.ceil(feat_probe.shape[0]/10000)"
   ]
  },
  {
   "cell_type": "code",
   "execution_count": 73,
   "id": "4fb3d06a",
   "metadata": {},
   "outputs": [
    {
     "data": {
      "text/plain": [
       "7"
      ]
     },
     "execution_count": 73,
     "metadata": {},
     "output_type": "execute_result"
    }
   ],
   "source": [
    "range(0,math.ceil(feat_probe.shape[0]/10000))"
   ]
  },
  {
   "cell_type": "code",
   "execution_count": null,
   "id": "997301b4",
   "metadata": {},
   "outputs": [],
   "source": [
    "feat_probe.shape[0]/10000"
   ]
  },
  {
   "cell_type": "code",
   "execution_count": null,
   "id": "4cc7811e",
   "metadata": {},
   "outputs": [],
   "source": [
    "feat_probe"
   ]
  },
  {
   "cell_type": "code",
   "execution_count": null,
   "id": "83b825bd",
   "metadata": {},
   "outputs": [],
   "source": [
    "feat_probe"
   ]
  },
  {
   "cell_type": "code",
   "execution_count": 24,
   "id": "de1bd76a",
   "metadata": {},
   "outputs": [],
   "source": [
    "def inner_product(x1, x2):\n",
    "    x1, x2 = np.array(x1), np.array(x2)\n",
    "    if x1.ndim == 3:\n",
    "        raise ValueError('why?')\n",
    "        x1, x2 = x1[:,:,0], x2[:,:,0]\n",
    "    return np.dot(x1, x2.T)\n"
   ]
  },
  {
   "cell_type": "code",
   "execution_count": null,
   "id": "873095fd",
   "metadata": {},
   "outputs": [],
   "source": []
  },
  {
   "cell_type": "code",
   "execution_count": 30,
   "id": "79de6bd7",
   "metadata": {},
   "outputs": [],
   "source": [
    "probe_tmp = feat_probe[:10000]"
   ]
  },
  {
   "cell_type": "code",
   "execution_count": null,
   "id": "96d9407d",
   "metadata": {},
   "outputs": [],
   "source": []
  },
  {
   "cell_type": "code",
   "execution_count": 31,
   "id": "ce135dbc",
   "metadata": {},
   "outputs": [],
   "source": [
    "label_mat = survface_test.labels_probe[:10000,None] == survface_test.labels_gallery[None,:]"
   ]
  },
  {
   "cell_type": "code",
   "execution_count": null,
   "id": "9f796289",
   "metadata": {},
   "outputs": [],
   "source": []
  },
  {
   "cell_type": "code",
   "execution_count": null,
   "id": "18a20e8b",
   "metadata": {},
   "outputs": [],
   "source": []
  },
  {
   "cell_type": "code",
   "execution_count": 33,
   "id": "66fa3ab1",
   "metadata": {},
   "outputs": [],
   "source": [
    "score_mat = inner_product(probe_tmp,feat_gallery)"
   ]
  },
  {
   "cell_type": "code",
   "execution_count": 34,
   "id": "8a0e1c28",
   "metadata": {},
   "outputs": [
    {
     "data": {
      "text/plain": [
       "(10000, 182159)"
      ]
     },
     "execution_count": 34,
     "metadata": {},
     "output_type": "execute_result"
    }
   ],
   "source": [
    "score_mat.shape"
   ]
  },
  {
   "cell_type": "code",
   "execution_count": null,
   "id": "3d0ddb02",
   "metadata": {},
   "outputs": [],
   "source": []
  },
  {
   "cell_type": "code",
   "execution_count": null,
   "id": "5e32a4d4",
   "metadata": {},
   "outputs": [],
   "source": []
  },
  {
   "cell_type": "code",
   "execution_count": null,
   "id": "871a952f",
   "metadata": {},
   "outputs": [],
   "source": []
  },
  {
   "cell_type": "code",
   "execution_count": 58,
   "id": "d9984e0f",
   "metadata": {},
   "outputs": [],
   "source": [
    "label_mat = survface_test.labels_probe[:,None] == survface_test.labels_gallery[None,:]"
   ]
  },
  {
   "cell_type": "code",
   "execution_count": null,
   "id": "507327e8",
   "metadata": {},
   "outputs": [],
   "source": []
  },
  {
   "cell_type": "code",
   "execution_count": null,
   "id": "70a1c0ee",
   "metadata": {},
   "outputs": [],
   "source": []
  },
  {
   "cell_type": "code",
   "execution_count": null,
   "id": "00e8df53",
   "metadata": {},
   "outputs": [],
   "source": [
    "score_mat = self.inner_product(feat_probe, feat_gallery)\n",
    "\n",
    "# label_mat = self.labels_probe[:,None] == self.labels_gallery[None,:]\n"
   ]
  },
  {
   "cell_type": "code",
   "execution_count": null,
   "id": "b6210b06",
   "metadata": {},
   "outputs": [],
   "source": []
  },
  {
   "cell_type": "code",
   "execution_count": null,
   "id": "b21e98ec",
   "metadata": {},
   "outputs": [],
   "source": []
  },
  {
   "cell_type": "code",
   "execution_count": 28,
   "id": "d70c5021",
   "metadata": {},
   "outputs": [],
   "source": [
    "def DIR_FAR(score_mat, label_mat, ranks=[1], FARs=[1.0], get_false_indices=False):\n",
    "    '''\n",
    "    Code borrowed from https://github.com/seasonSH/Probabilistic-Face-Embeddings\n",
    "\n",
    "    Closed/Open-set Identification.\n",
    "        A general case of Cummulative Match Characteristic (CMC)\n",
    "        where thresholding is allowed for open-set identification.\n",
    "    args:\n",
    "        score_mat:            a P x G matrix, P is number of probes, G is size of gallery\n",
    "        label_mat:            a P x G matrix, bool\n",
    "        ranks:                a list of integers\n",
    "        FARs:                 false alarm rates, if 1.0, closed-set identification (CMC)\n",
    "        get_false_indices:    not implemented yet\n",
    "    return:\n",
    "        DIRs:                 an F x R matrix, F is the number of FARs, R is the number of ranks,\n",
    "                              flatten into a vector if F=1 or R=1.\n",
    "        FARs:                 an vector of length = F.\n",
    "        thredholds:           an vector of length = F.\n",
    "    '''\n",
    "    assert score_mat.shape==label_mat.shape\n",
    "    # assert np.all(label_mat.astype(np.float32).sum(axis=1) <=1 )\n",
    "    # Split the matrix for match probes and non-match probes\n",
    "    # subfix _m: match, _nm: non-match\n",
    "    # For closed set, we only use the match probes\n",
    "    match_indices = label_mat.astype(np.bool).any(axis=1)\n",
    "    score_mat_m = score_mat[match_indices,:]\n",
    "    label_mat_m = label_mat[match_indices,:]\n",
    "    score_mat_nm = score_mat[np.logical_not(match_indices),:]\n",
    "    label_mat_nm = label_mat[np.logical_not(match_indices),:]\n",
    "\n",
    "    print('mate probes: %d, non mate probes: %d' % (score_mat_m.shape[0], score_mat_nm.shape[0]))\n",
    "\n",
    "    # Find the thresholds for different FARs\n",
    "    max_score_nm = np.max(score_mat_nm, axis=1)\n",
    "    label_temp = np.zeros(max_score_nm.shape, dtype=np.bool)\n",
    "    if len(FARs) == 1 and FARs[0] >= 1.0:\n",
    "        # If only testing closed-set identification, use the minimum score as threshold\n",
    "        # in case there is no non-mate probes\n",
    "        thresholds = [np.min(score_mat) - 1e-10]\n",
    "        openset = False\n",
    "    else:\n",
    "        # If there is open-set identification, find the thresholds by FARs.\n",
    "        assert score_mat_nm.shape[0] > 0, \"For open-set identification (FAR<1.0), there should be at least one non-mate probe!\"\n",
    "        thresholds = find_thresholds_by_FAR(max_score_nm, label_temp, FARs=FARs)\n",
    "        openset = True\n",
    "\n",
    "    # Sort the labels row by row according to scores\n",
    "    sort_idx_mat_m = np.argsort(score_mat_m, axis=1)\n",
    "    sorted_label_mat_m = np.ndarray(label_mat_m.shape, dtype=np.bool)\n",
    "    for row in range(label_mat_m.shape[0]):\n",
    "        sort_idx = (sort_idx_mat_m[row, :])[::-1]\n",
    "        sorted_label_mat_m[row,:] = label_mat_m[row, sort_idx]\n",
    "\n",
    "    # Calculate DIRs for different FARs and ranks\n",
    "    if openset:\n",
    "        gt_score_m = score_mat_m[label_mat_m]\n",
    "        assert gt_score_m.size == score_mat_m.shape[0]\n",
    "\n",
    "    DIRs = np.zeros([len(FARs), len(ranks)], dtype=np.float32)\n",
    "    FARs = np.zeros([len(FARs)], dtype=np.float32)\n",
    "    if get_false_indices:\n",
    "        false_retrieval = np.zeros([len(FARs), len(ranks), score_mat_m.shape[0]], dtype=np.bool)\n",
    "        false_reject = np.zeros([len(FARs), len(ranks), score_mat_m.shape[0]], dtype=np.bool)\n",
    "        false_accept = np.zeros([len(FARs), len(ranks), score_mat_nm.shape[0]], dtype=np.bool)\n",
    "    for i, threshold in enumerate(thresholds):\n",
    "        for j, rank  in enumerate(ranks):\n",
    "            success_retrieval = sorted_label_mat_m[:,0:rank].any(axis=1)\n",
    "            if openset:\n",
    "                success_threshold = gt_score_m >= threshold\n",
    "                DIRs[i,j] = (success_threshold & success_retrieval).astype(np.float32)\n",
    "            else:\n",
    "                DIRs[i,j] = success_retrieval.astype(np.float32)\n",
    "            if get_false_indices:\n",
    "                false_retrieval[i,j] = ~success_retrieval\n",
    "                false_accept[i,j] = score_mat_nm.max(1) >= threshold\n",
    "                if openset:\n",
    "                    false_reject[i,j] = ~success_threshold\n",
    "        if score_mat_nm.shape[0] > 0:\n",
    "            FARs[i] = (max_score_nm >= threshold).astype(np.float32)\n",
    "\n",
    "    if DIRs.shape[0] == 1 or DIRs.shape[1] == 1:\n",
    "        DIRs = DIRs.flatten()\n",
    "\n",
    "    if get_false_indices:\n",
    "        return DIRs, FARs, thresholds, match_indices, false_retrieval, false_reject, false_accept, sort_idx_mat_m\n",
    "    else:\n",
    "        return DIRs, FARs, thresholds\n"
   ]
  },
  {
   "cell_type": "code",
   "execution_count": 40,
   "id": "b744e493",
   "metadata": {},
   "outputs": [
    {
     "name": "stderr",
     "output_type": "stream",
     "text": [
      "/home/taes/anaconda3/envs/adaface/lib/python3.7/site-packages/ipykernel_launcher.py:1: DeprecationWarning: `np.bool` is a deprecated alias for the builtin `bool`. To silence this warning, use `bool` by itself. Doing this will not modify any behavior and is safe. If you specifically wanted the numpy scalar type, use `np.bool_` here.\n",
      "Deprecated in NumPy 1.20; for more details and guidance: https://numpy.org/devdocs/release/1.20.0-notes.html#deprecations\n",
      "  \"\"\"Entry point for launching an IPython kernel.\n"
     ]
    }
   ],
   "source": [
    "match_indices = label_mat.astype(np.bool).any(axis=1)\n",
    "score_mat_m = score_mat[match_indices,:]\n",
    "label_mat_m = label_mat[match_indices,:]\n",
    "score_mat_nm = score_mat[np.logical_not(match_indices),:]\n",
    "label_mat_nm = label_mat[np.logical_not(match_indices),:]\n"
   ]
  },
  {
   "cell_type": "code",
   "execution_count": 41,
   "id": "96cf465e",
   "metadata": {},
   "outputs": [],
   "source": [
    "ranks=[1,5,20]\n",
    "FARs=[1.0]"
   ]
  },
  {
   "cell_type": "code",
   "execution_count": 42,
   "id": "6f22d029",
   "metadata": {},
   "outputs": [
    {
     "name": "stderr",
     "output_type": "stream",
     "text": [
      "/home/taes/anaconda3/envs/adaface/lib/python3.7/site-packages/ipykernel_launcher.py:2: DeprecationWarning: `np.bool` is a deprecated alias for the builtin `bool`. To silence this warning, use `bool` by itself. Doing this will not modify any behavior and is safe. If you specifically wanted the numpy scalar type, use `np.bool_` here.\n",
      "Deprecated in NumPy 1.20; for more details and guidance: https://numpy.org/devdocs/release/1.20.0-notes.html#deprecations\n",
      "  \n"
     ]
    }
   ],
   "source": [
    "max_score_nm = np.max(score_mat_nm, axis=1)\n",
    "label_temp = np.zeros(max_score_nm.shape, dtype=np.bool)\n",
    "if len(FARs) == 1 and FARs[0] >= 1.0:\n",
    "    # If only testing closed-set identification, use the minimum score as threshold\n",
    "    # in case there is no non-mate probes\n",
    "    thresholds = [np.min(score_mat) - 1e-10]\n",
    "    openset = False\n",
    "else:\n",
    "    # If there is open-set identification, find the thresholds by FARs.\n",
    "    assert score_mat_nm.shape[0] > 0, \"For open-set identification (FAR<1.0), there should be at least one non-mate probe!\"\n",
    "    thresholds = find_thresholds_by_FAR(max_score_nm, label_temp, FARs=FARs)\n",
    "    openset = True\n"
   ]
  },
  {
   "cell_type": "code",
   "execution_count": 43,
   "id": "c4d594b7",
   "metadata": {},
   "outputs": [
    {
     "name": "stderr",
     "output_type": "stream",
     "text": [
      "/home/taes/anaconda3/envs/adaface/lib/python3.7/site-packages/ipykernel_launcher.py:2: DeprecationWarning: `np.bool` is a deprecated alias for the builtin `bool`. To silence this warning, use `bool` by itself. Doing this will not modify any behavior and is safe. If you specifically wanted the numpy scalar type, use `np.bool_` here.\n",
      "Deprecated in NumPy 1.20; for more details and guidance: https://numpy.org/devdocs/release/1.20.0-notes.html#deprecations\n",
      "  \n"
     ]
    }
   ],
   "source": [
    "    sort_idx_mat_m = np.argsort(score_mat_m, axis=1)\n",
    "    sorted_label_mat_m = np.ndarray(label_mat_m.shape, dtype=np.bool)\n",
    "    for row in range(label_mat_m.shape[0]):\n",
    "        sort_idx = (sort_idx_mat_m[row, :])[::-1]\n",
    "        sorted_label_mat_m[row,:] = label_mat_m[row, sort_idx]\n",
    "\n",
    "    # Calculate DIRs for different FARs and ranks\n",
    "    if openset:\n",
    "        gt_score_m = score_mat_m[label_mat_m]\n",
    "        assert gt_score_m.size == score_mat_m.shape[0]\n",
    "\n",
    "    DIRs = np.zeros([len(FARs), len(ranks)], dtype=np.float32)\n",
    "    FARs = np.zeros([len(FARs)], dtype=np.float32)\n"
   ]
  },
  {
   "cell_type": "code",
   "execution_count": null,
   "id": "29bec0f2",
   "metadata": {},
   "outputs": [],
   "source": [
    "for i, threshold in enumerate(thresholds):\n",
    "    for j, rank  in enumerate(ranks):\n",
    "        success_retrieval = sorted_label_mat_m[:,0:rank].any(axis=1)\n",
    "        if openset:\n",
    "            success_threshold = gt_score_m >= threshold\n",
    "            DIRs[i,j] = (success_threshold & success_retrieval).astype(np.float32)\n",
    "        else:\n",
    "            DIRs[i,j] = success_retrieval.astype(np.float32)\n",
    "        if get_false_indices:\n",
    "            false_retrieval[i,j] = ~success_retrieval\n",
    "            false_accept[i,j] = score_mat_nm.max(1) >= threshold\n",
    "            if openset:\n",
    "                false_reject[i,j] = ~success_threshold\n",
    "    if score_mat_nm.shape[0] > 0:\n",
    "        FARs[i] = (max_score_nm >= threshold).astype(np.float32)\n"
   ]
  },
  {
   "cell_type": "code",
   "execution_count": 44,
   "id": "2e0b3086",
   "metadata": {},
   "outputs": [],
   "source": [
    "success_retrieval = sorted_label_mat_m[:,0:1].any(axis=1)"
   ]
  },
  {
   "cell_type": "code",
   "execution_count": 45,
   "id": "d1ff737b",
   "metadata": {},
   "outputs": [
    {
     "data": {
      "text/plain": [
       "(10000, 182159)"
      ]
     },
     "execution_count": 45,
     "metadata": {},
     "output_type": "execute_result"
    }
   ],
   "source": [
    "sorted_label_mat_m.shape"
   ]
  },
  {
   "cell_type": "code",
   "execution_count": 77,
   "id": "a53a4a94",
   "metadata": {},
   "outputs": [
    {
     "data": {
      "text/plain": [
       "(10000,)"
      ]
     },
     "execution_count": 77,
     "metadata": {},
     "output_type": "execute_result"
    }
   ],
   "source": [
    "success_retrieval.shape"
   ]
  },
  {
   "cell_type": "code",
   "execution_count": 91,
   "id": "3caca796",
   "metadata": {},
   "outputs": [
    {
     "data": {
      "text/plain": [
       "622"
      ]
     },
     "execution_count": 91,
     "metadata": {},
     "output_type": "execute_result"
    }
   ],
   "source": [
    "sorted_label_mat_m[:,0:5].any(axis=1).sum()"
   ]
  },
  {
   "cell_type": "code",
   "execution_count": 92,
   "id": "35dd2186",
   "metadata": {},
   "outputs": [
    {
     "data": {
      "text/plain": [
       "1070"
      ]
     },
     "execution_count": 92,
     "metadata": {},
     "output_type": "execute_result"
    }
   ],
   "source": [
    "sorted_label_mat_m[:,0:20].any(axis=1).sum()"
   ]
  },
  {
   "cell_type": "code",
   "execution_count": null,
   "id": "e93eacbb",
   "metadata": {},
   "outputs": [],
   "source": [
    "np.zeros([len(FARs), len(sorted_label_mat_m[:,0:5].any(axis=1).shape)], dtype=np.float32)"
   ]
  },
  {
   "cell_type": "code",
   "execution_count": null,
   "id": "3f5b5e1b",
   "metadata": {},
   "outputs": [],
   "source": []
  },
  {
   "cell_type": "code",
   "execution_count": 87,
   "id": "3f59b0d9",
   "metadata": {},
   "outputs": [
    {
     "data": {
      "text/plain": [
       "(10000,)"
      ]
     },
     "execution_count": 87,
     "metadata": {},
     "output_type": "execute_result"
    }
   ],
   "source": [
    "sorted_label_mat_m[:,0:5].any(axis=1).shape"
   ]
  },
  {
   "cell_type": "code",
   "execution_count": 88,
   "id": "9af1c830",
   "metadata": {},
   "outputs": [
    {
     "data": {
      "text/plain": [
       "0.0622"
      ]
     },
     "execution_count": 88,
     "metadata": {},
     "output_type": "execute_result"
    }
   ],
   "source": [
    "sorted_label_mat_m[:,0:5].any(axis=1).mean()"
   ]
  },
  {
   "cell_type": "code",
   "execution_count": null,
   "id": "f59a326f",
   "metadata": {},
   "outputs": [],
   "source": []
  },
  {
   "cell_type": "code",
   "execution_count": 93,
   "id": "edc95029",
   "metadata": {},
   "outputs": [],
   "source": [
    "DIRs = np.zeros([len(FARs), 3], dtype=np.float32)"
   ]
  },
  {
   "cell_type": "code",
   "execution_count": 101,
   "id": "0abd31bc",
   "metadata": {},
   "outputs": [
    {
     "data": {
      "text/plain": [
       "array([[0.5, 0.5, 0.5]], dtype=float32)"
      ]
     },
     "execution_count": 101,
     "metadata": {},
     "output_type": "execute_result"
    }
   ],
   "source": [
    "(DIRs + np.ones([len(FARs), 3], dtype=np.float32))/2"
   ]
  },
  {
   "cell_type": "code",
   "execution_count": null,
   "id": "d72a03ed",
   "metadata": {},
   "outputs": [],
   "source": []
  },
  {
   "cell_type": "code",
   "execution_count": 90,
   "id": "43eca9f0",
   "metadata": {},
   "outputs": [
    {
     "data": {
      "text/plain": [
       "(3,)"
      ]
     },
     "execution_count": 90,
     "metadata": {},
     "output_type": "execute_result"
    }
   ],
   "source": [
    "DIRs.flatten().shape"
   ]
  },
  {
   "cell_type": "code",
   "execution_count": null,
   "id": "1794221c",
   "metadata": {},
   "outputs": [],
   "source": []
  },
  {
   "cell_type": "code",
   "execution_count": 84,
   "id": "e59573ec",
   "metadata": {},
   "outputs": [
    {
     "data": {
      "text/plain": [
       "(2, 3)"
      ]
     },
     "execution_count": 84,
     "metadata": {},
     "output_type": "execute_result"
    }
   ],
   "source": [
    "np.concatenate([DIRs,np.zeros([len(FARs), len(ranks)], dtype=np.float32)]).shape"
   ]
  },
  {
   "cell_type": "code",
   "execution_count": null,
   "id": "5bffdd3d",
   "metadata": {},
   "outputs": [],
   "source": []
  },
  {
   "cell_type": "code",
   "execution_count": 49,
   "id": "84753445",
   "metadata": {
    "scrolled": true
   },
   "outputs": [
    {
     "data": {
      "text/plain": [
       "322"
      ]
     },
     "execution_count": 49,
     "metadata": {},
     "output_type": "execute_result"
    }
   ],
   "source": [
    "success_retrieval.sum()"
   ]
  },
  {
   "cell_type": "code",
   "execution_count": null,
   "id": "4f5482c2",
   "metadata": {},
   "outputs": [],
   "source": []
  },
  {
   "cell_type": "code",
   "execution_count": null,
   "id": "68140d65",
   "metadata": {},
   "outputs": [],
   "source": []
  },
  {
   "cell_type": "code",
   "execution_count": 50,
   "id": "c9bc5cf7",
   "metadata": {},
   "outputs": [
    {
     "ename": "NameError",
     "evalue": "name 'threshold' is not defined",
     "output_type": "error",
     "traceback": [
      "\u001b[0;31m---------------------------------------------------------------------------\u001b[0m",
      "\u001b[0;31mNameError\u001b[0m                                 Traceback (most recent call last)",
      "\u001b[0;32m/tmp/ipykernel_24704/2283287864.py\u001b[0m in \u001b[0;36m<module>\u001b[0;34m\u001b[0m\n\u001b[0;32m----> 1\u001b[0;31m \u001b[0;34m(\u001b[0m\u001b[0mmax_score_nm\u001b[0m \u001b[0;34m>=\u001b[0m \u001b[0mthreshold\u001b[0m\u001b[0;34m)\u001b[0m\u001b[0;34m.\u001b[0m\u001b[0mastype\u001b[0m\u001b[0;34m(\u001b[0m\u001b[0mnp\u001b[0m\u001b[0;34m.\u001b[0m\u001b[0mfloat32\u001b[0m\u001b[0;34m)\u001b[0m\u001b[0;34m.\u001b[0m\u001b[0mshape\u001b[0m\u001b[0;34m\u001b[0m\u001b[0m\n\u001b[0m",
      "\u001b[0;31mNameError\u001b[0m: name 'threshold' is not defined"
     ]
    }
   ],
   "source": []
  },
  {
   "cell_type": "code",
   "execution_count": null,
   "id": "5239441b",
   "metadata": {},
   "outputs": [],
   "source": [
    "60294, 512"
   ]
  },
  {
   "cell_type": "code",
   "execution_count": 36,
   "id": "d0334887",
   "metadata": {},
   "outputs": [
    {
     "data": {
      "text/plain": [
       "(10000, 182159)"
      ]
     },
     "execution_count": 36,
     "metadata": {},
     "output_type": "execute_result"
    }
   ],
   "source": [
    "score_mat.shape"
   ]
  },
  {
   "cell_type": "code",
   "execution_count": 39,
   "id": "13d170eb",
   "metadata": {},
   "outputs": [
    {
     "data": {
      "text/plain": [
       "(10000, 182159)"
      ]
     },
     "execution_count": 39,
     "metadata": {},
     "output_type": "execute_result"
    }
   ],
   "source": [
    "label_mat.shape"
   ]
  },
  {
   "cell_type": "code",
   "execution_count": 51,
   "id": "9505b0f6",
   "metadata": {},
   "outputs": [],
   "source": [
    "thresholds = [np.min(score_mat) - 1e-10]"
   ]
  },
  {
   "cell_type": "code",
   "execution_count": 55,
   "id": "c8793355",
   "metadata": {},
   "outputs": [
    {
     "data": {
      "text/plain": [
       "array([], dtype=float32)"
      ]
     },
     "execution_count": 55,
     "metadata": {},
     "output_type": "execute_result"
    }
   ],
   "source": [
    "(max_score_nm >= thresholds[0]).astype(np.float32)"
   ]
  },
  {
   "cell_type": "code",
   "execution_count": 59,
   "id": "51f6d936",
   "metadata": {},
   "outputs": [],
   "source": [
    "score_mat_nm = score_mat[np.logical_not(match_indices),:]"
   ]
  },
  {
   "cell_type": "code",
   "execution_count": 60,
   "id": "c3fb7a20",
   "metadata": {},
   "outputs": [
    {
     "data": {
      "text/plain": [
       "array([], shape=(0, 182159), dtype=float32)"
      ]
     },
     "execution_count": 60,
     "metadata": {},
     "output_type": "execute_result"
    }
   ],
   "source": [
    "score_mat_nm"
   ]
  },
  {
   "cell_type": "code",
   "execution_count": 58,
   "id": "597d7613",
   "metadata": {},
   "outputs": [
    {
     "data": {
      "text/plain": [
       "array([], shape=(0, 182159), dtype=float32)"
      ]
     },
     "execution_count": 58,
     "metadata": {},
     "output_type": "execute_result"
    }
   ],
   "source": [
    "score_mat_nm"
   ]
  },
  {
   "cell_type": "code",
   "execution_count": 56,
   "id": "16491bba",
   "metadata": {},
   "outputs": [],
   "source": [
    "max_score_nm = np.max(score_mat_nm, axis=1)"
   ]
  },
  {
   "cell_type": "code",
   "execution_count": 57,
   "id": "10cb3d7f",
   "metadata": {},
   "outputs": [
    {
     "data": {
      "text/plain": [
       "array([], dtype=float32)"
      ]
     },
     "execution_count": 57,
     "metadata": {},
     "output_type": "execute_result"
    }
   ],
   "source": [
    "max_score_nm"
   ]
  },
  {
   "cell_type": "code",
   "execution_count": null,
   "id": "975ebb0a",
   "metadata": {},
   "outputs": [
    {
     "name": "stderr",
     "output_type": "stream",
     "text": [
      "/home/taes/anaconda3/envs/adaface/lib/python3.7/site-packages/ipykernel_launcher.py:25: DeprecationWarning: `np.bool` is a deprecated alias for the builtin `bool`. To silence this warning, use `bool` by itself. Doing this will not modify any behavior and is safe. If you specifically wanted the numpy scalar type, use `np.bool_` here.\n",
      "Deprecated in NumPy 1.20; for more details and guidance: https://numpy.org/devdocs/release/1.20.0-notes.html#deprecations\n"
     ]
    }
   ],
   "source": [
    "results, _, __ = DIR_FAR(score_mat, label_mat, [1,5,20])"
   ]
  },
  {
   "cell_type": "code",
   "execution_count": null,
   "id": "049f4e3a",
   "metadata": {},
   "outputs": [],
   "source": []
  }
 ],
 "metadata": {
  "kernelspec": {
   "display_name": "adaface",
   "language": "python",
   "name": "adaface"
  },
  "language_info": {
   "codemirror_mode": {
    "name": "ipython",
    "version": 3
   },
   "file_extension": ".py",
   "mimetype": "text/x-python",
   "name": "python",
   "nbconvert_exporter": "python",
   "pygments_lexer": "ipython3",
   "version": "3.7.0"
  }
 },
 "nbformat": 4,
 "nbformat_minor": 5
}
